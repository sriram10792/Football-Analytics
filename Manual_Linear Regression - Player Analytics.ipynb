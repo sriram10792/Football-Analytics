{
 "cells": [
  {
   "cell_type": "markdown",
   "metadata": {},
   "source": [
    "# Player Analytics - Trying to predict the number of goals scored in a season"
   ]
  },
  {
   "cell_type": "markdown",
   "metadata": {},
   "source": [
    "# Linear Regression Using SKLEARN"
   ]
  },
  {
   "cell_type": "markdown",
   "metadata": {},
   "source": [
    "Choose Cristiano Ronaldo because of his consistency and endurance"
   ]
  },
  {
   "cell_type": "code",
   "execution_count": 4,
   "metadata": {
    "collapsed": true
   },
   "outputs": [],
   "source": [
    "import pandas as pd\n",
    "import matplotlib.pyplot as plt\n",
    "import matplotlib.pyplot as plt\n",
    "import numpy as np"
   ]
  },
  {
   "cell_type": "code",
   "execution_count": 1,
   "metadata": {},
   "outputs": [
    {
     "data": {
      "text/plain": [
       "'C:\\\\Users\\\\Ramesh Narayanan'"
      ]
     },
     "execution_count": 1,
     "metadata": {},
     "output_type": "execute_result"
    }
   ],
   "source": [
    "pwd"
   ]
  },
  {
   "cell_type": "code",
   "execution_count": 2,
   "metadata": {},
   "outputs": [
    {
     "name": "stdout",
     "output_type": "stream",
     "text": [
      "H:\\DSP project\\Data sets\n"
     ]
    }
   ],
   "source": [
    "cd H:/DSP project/Data sets"
   ]
  },
  {
   "cell_type": "code",
   "execution_count": 5,
   "metadata": {},
   "outputs": [],
   "source": [
    "my_data = pd.read_csv('CR.csv') #read the data"
   ]
  },
  {
   "cell_type": "markdown",
   "metadata": {},
   "source": [
    "This is with respect to ronaldo. This is a small dataset containing stats wrt Ronaldo"
   ]
  },
  {
   "cell_type": "code",
   "execution_count": 6,
   "metadata": {},
   "outputs": [
    {
     "data": {
      "text/html": [
       "<div>\n",
       "<style>\n",
       "    .dataframe thead tr:only-child th {\n",
       "        text-align: right;\n",
       "    }\n",
       "\n",
       "    .dataframe thead th {\n",
       "        text-align: left;\n",
       "    }\n",
       "\n",
       "    .dataframe tbody tr th {\n",
       "        vertical-align: top;\n",
       "    }\n",
       "</style>\n",
       "<table border=\"1\" class=\"dataframe\">\n",
       "  <thead>\n",
       "    <tr style=\"text-align: right;\">\n",
       "      <th></th>\n",
       "      <th>Season</th>\n",
       "      <th>Team Rating</th>\n",
       "      <th>Ronaldo_rating</th>\n",
       "      <th>Matches</th>\n",
       "      <th>Shots</th>\n",
       "      <th>Ontarget</th>\n",
       "      <th>Shot_accuracy</th>\n",
       "      <th>Goals</th>\n",
       "    </tr>\n",
       "  </thead>\n",
       "  <tbody>\n",
       "    <tr>\n",
       "      <th>0</th>\n",
       "      <td>2007</td>\n",
       "      <td>84</td>\n",
       "      <td>87</td>\n",
       "      <td>49</td>\n",
       "      <td>174</td>\n",
       "      <td>77</td>\n",
       "      <td>0.442529</td>\n",
       "      <td>42</td>\n",
       "    </tr>\n",
       "    <tr>\n",
       "      <th>1</th>\n",
       "      <td>2008</td>\n",
       "      <td>87</td>\n",
       "      <td>91</td>\n",
       "      <td>53</td>\n",
       "      <td>181</td>\n",
       "      <td>57</td>\n",
       "      <td>0.314917</td>\n",
       "      <td>26</td>\n",
       "    </tr>\n",
       "    <tr>\n",
       "      <th>2</th>\n",
       "      <td>2009</td>\n",
       "      <td>85</td>\n",
       "      <td>91</td>\n",
       "      <td>35</td>\n",
       "      <td>124</td>\n",
       "      <td>54</td>\n",
       "      <td>0.435484</td>\n",
       "      <td>33</td>\n",
       "    </tr>\n",
       "    <tr>\n",
       "      <th>3</th>\n",
       "      <td>2010</td>\n",
       "      <td>85</td>\n",
       "      <td>93</td>\n",
       "      <td>54</td>\n",
       "      <td>212</td>\n",
       "      <td>91</td>\n",
       "      <td>0.429245</td>\n",
       "      <td>53</td>\n",
       "    </tr>\n",
       "    <tr>\n",
       "      <th>4</th>\n",
       "      <td>2011</td>\n",
       "      <td>85</td>\n",
       "      <td>92</td>\n",
       "      <td>55</td>\n",
       "      <td>229</td>\n",
       "      <td>101</td>\n",
       "      <td>0.441048</td>\n",
       "      <td>60</td>\n",
       "    </tr>\n",
       "  </tbody>\n",
       "</table>\n",
       "</div>"
      ],
      "text/plain": [
       "   Season  Team Rating  Ronaldo_rating  Matches  Shots  Ontarget  \\\n",
       "0    2007           84              87       49    174        77   \n",
       "1    2008           87              91       53    181        57   \n",
       "2    2009           85              91       35    124        54   \n",
       "3    2010           85              93       54    212        91   \n",
       "4    2011           85              92       55    229       101   \n",
       "\n",
       "   Shot_accuracy  Goals  \n",
       "0       0.442529     42  \n",
       "1       0.314917     26  \n",
       "2       0.435484     33  \n",
       "3       0.429245     53  \n",
       "4       0.441048     60  "
      ]
     },
     "execution_count": 6,
     "metadata": {},
     "output_type": "execute_result"
    }
   ],
   "source": [
    "my_data.head()"
   ]
  },
  {
   "cell_type": "markdown",
   "metadata": {},
   "source": [
    "Drop unncessary column for regression - Season"
   ]
  },
  {
   "cell_type": "code",
   "execution_count": 7,
   "metadata": {
    "collapsed": true
   },
   "outputs": [],
   "source": [
    "my_data= my_data.drop('Season', 1)"
   ]
  },
  {
   "cell_type": "markdown",
   "metadata": {},
   "source": [
    "Remove correlated columns to avoid Multi Collinearity"
   ]
  },
  {
   "cell_type": "code",
   "execution_count": 8,
   "metadata": {},
   "outputs": [
    {
     "data": {
      "text/html": [
       "<div>\n",
       "<style>\n",
       "    .dataframe thead tr:only-child th {\n",
       "        text-align: right;\n",
       "    }\n",
       "\n",
       "    .dataframe thead th {\n",
       "        text-align: left;\n",
       "    }\n",
       "\n",
       "    .dataframe tbody tr th {\n",
       "        vertical-align: top;\n",
       "    }\n",
       "</style>\n",
       "<table border=\"1\" class=\"dataframe\">\n",
       "  <thead>\n",
       "    <tr style=\"text-align: right;\">\n",
       "      <th></th>\n",
       "      <th>Team Rating</th>\n",
       "      <th>Ronaldo_rating</th>\n",
       "      <th>Matches</th>\n",
       "      <th>Shots</th>\n",
       "      <th>Ontarget</th>\n",
       "      <th>Shot_accuracy</th>\n",
       "      <th>Goals</th>\n",
       "    </tr>\n",
       "  </thead>\n",
       "  <tbody>\n",
       "    <tr>\n",
       "      <th>Team Rating</th>\n",
       "      <td>1.000000</td>\n",
       "      <td>0.534504</td>\n",
       "      <td>0.067082</td>\n",
       "      <td>0.334320</td>\n",
       "      <td>0.079040</td>\n",
       "      <td>-0.419874</td>\n",
       "      <td>-0.216844</td>\n",
       "    </tr>\n",
       "    <tr>\n",
       "      <th>Ronaldo_rating</th>\n",
       "      <td>0.534504</td>\n",
       "      <td>1.000000</td>\n",
       "      <td>0.042018</td>\n",
       "      <td>0.570668</td>\n",
       "      <td>0.421615</td>\n",
       "      <td>-0.073108</td>\n",
       "      <td>0.306421</td>\n",
       "    </tr>\n",
       "    <tr>\n",
       "      <th>Matches</th>\n",
       "      <td>0.067082</td>\n",
       "      <td>0.042018</td>\n",
       "      <td>1.000000</td>\n",
       "      <td>0.592621</td>\n",
       "      <td>0.479540</td>\n",
       "      <td>-0.024382</td>\n",
       "      <td>0.524915</td>\n",
       "    </tr>\n",
       "    <tr>\n",
       "      <th>Shots</th>\n",
       "      <td>0.334320</td>\n",
       "      <td>0.570668</td>\n",
       "      <td>0.592621</td>\n",
       "      <td>1.000000</td>\n",
       "      <td>0.890514</td>\n",
       "      <td>0.179815</td>\n",
       "      <td>0.685401</td>\n",
       "    </tr>\n",
       "    <tr>\n",
       "      <th>Ontarget</th>\n",
       "      <td>0.079040</td>\n",
       "      <td>0.421615</td>\n",
       "      <td>0.479540</td>\n",
       "      <td>0.890514</td>\n",
       "      <td>1.000000</td>\n",
       "      <td>0.606910</td>\n",
       "      <td>0.876247</td>\n",
       "    </tr>\n",
       "    <tr>\n",
       "      <th>Shot_accuracy</th>\n",
       "      <td>-0.419874</td>\n",
       "      <td>-0.073108</td>\n",
       "      <td>-0.024382</td>\n",
       "      <td>0.179815</td>\n",
       "      <td>0.606910</td>\n",
       "      <td>1.000000</td>\n",
       "      <td>0.697277</td>\n",
       "    </tr>\n",
       "    <tr>\n",
       "      <th>Goals</th>\n",
       "      <td>-0.216844</td>\n",
       "      <td>0.306421</td>\n",
       "      <td>0.524915</td>\n",
       "      <td>0.685401</td>\n",
       "      <td>0.876247</td>\n",
       "      <td>0.697277</td>\n",
       "      <td>1.000000</td>\n",
       "    </tr>\n",
       "  </tbody>\n",
       "</table>\n",
       "</div>"
      ],
      "text/plain": [
       "                Team Rating  Ronaldo_rating   Matches     Shots  Ontarget  \\\n",
       "Team Rating        1.000000        0.534504  0.067082  0.334320  0.079040   \n",
       "Ronaldo_rating     0.534504        1.000000  0.042018  0.570668  0.421615   \n",
       "Matches            0.067082        0.042018  1.000000  0.592621  0.479540   \n",
       "Shots              0.334320        0.570668  0.592621  1.000000  0.890514   \n",
       "Ontarget           0.079040        0.421615  0.479540  0.890514  1.000000   \n",
       "Shot_accuracy     -0.419874       -0.073108 -0.024382  0.179815  0.606910   \n",
       "Goals             -0.216844        0.306421  0.524915  0.685401  0.876247   \n",
       "\n",
       "                Shot_accuracy     Goals  \n",
       "Team Rating         -0.419874 -0.216844  \n",
       "Ronaldo_rating      -0.073108  0.306421  \n",
       "Matches             -0.024382  0.524915  \n",
       "Shots                0.179815  0.685401  \n",
       "Ontarget             0.606910  0.876247  \n",
       "Shot_accuracy        1.000000  0.697277  \n",
       "Goals                0.697277  1.000000  "
      ]
     },
     "execution_count": 8,
     "metadata": {},
     "output_type": "execute_result"
    }
   ],
   "source": [
    "my_data.corr()"
   ]
  },
  {
   "cell_type": "markdown",
   "metadata": {},
   "source": [
    "Shot Accuracy - is calculated as a percentage of on target shots wrt to total shots"
   ]
  },
  {
   "cell_type": "code",
   "execution_count": 9,
   "metadata": {
    "collapsed": true
   },
   "outputs": [],
   "source": [
    "my_data=my_data.drop('Shot_accuracy',1)"
   ]
  },
  {
   "cell_type": "code",
   "execution_count": 10,
   "metadata": {},
   "outputs": [
    {
     "data": {
      "text/html": [
       "<div>\n",
       "<style>\n",
       "    .dataframe thead tr:only-child th {\n",
       "        text-align: right;\n",
       "    }\n",
       "\n",
       "    .dataframe thead th {\n",
       "        text-align: left;\n",
       "    }\n",
       "\n",
       "    .dataframe tbody tr th {\n",
       "        vertical-align: top;\n",
       "    }\n",
       "</style>\n",
       "<table border=\"1\" class=\"dataframe\">\n",
       "  <thead>\n",
       "    <tr style=\"text-align: right;\">\n",
       "      <th></th>\n",
       "      <th>Team Rating</th>\n",
       "      <th>Ronaldo_rating</th>\n",
       "      <th>Matches</th>\n",
       "      <th>Shots</th>\n",
       "      <th>Ontarget</th>\n",
       "      <th>Goals</th>\n",
       "    </tr>\n",
       "  </thead>\n",
       "  <tbody>\n",
       "    <tr>\n",
       "      <th>0</th>\n",
       "      <td>-1.273489</td>\n",
       "      <td>-2.635150</td>\n",
       "      <td>-0.030151</td>\n",
       "      <td>-0.848651</td>\n",
       "      <td>-0.445527</td>\n",
       "      <td>-0.484536</td>\n",
       "    </tr>\n",
       "    <tr>\n",
       "      <th>1</th>\n",
       "      <td>1.198578</td>\n",
       "      <td>-0.405408</td>\n",
       "      <td>0.633174</td>\n",
       "      <td>-0.631554</td>\n",
       "      <td>-1.598656</td>\n",
       "      <td>-1.954852</td>\n",
       "    </tr>\n",
       "    <tr>\n",
       "      <th>2</th>\n",
       "      <td>-0.449467</td>\n",
       "      <td>-0.405408</td>\n",
       "      <td>-2.351788</td>\n",
       "      <td>-2.399343</td>\n",
       "      <td>-1.771626</td>\n",
       "      <td>-1.311589</td>\n",
       "    </tr>\n",
       "    <tr>\n",
       "      <th>3</th>\n",
       "      <td>-0.449467</td>\n",
       "      <td>0.709464</td>\n",
       "      <td>0.799005</td>\n",
       "      <td>0.329874</td>\n",
       "      <td>0.361663</td>\n",
       "      <td>0.526306</td>\n",
       "    </tr>\n",
       "    <tr>\n",
       "      <th>4</th>\n",
       "      <td>-0.449467</td>\n",
       "      <td>0.152028</td>\n",
       "      <td>0.964836</td>\n",
       "      <td>0.857110</td>\n",
       "      <td>0.938228</td>\n",
       "      <td>1.169570</td>\n",
       "    </tr>\n",
       "  </tbody>\n",
       "</table>\n",
       "</div>"
      ],
      "text/plain": [
       "   Team Rating  Ronaldo_rating   Matches     Shots  Ontarget     Goals\n",
       "0    -1.273489       -2.635150 -0.030151 -0.848651 -0.445527 -0.484536\n",
       "1     1.198578       -0.405408  0.633174 -0.631554 -1.598656 -1.954852\n",
       "2    -0.449467       -0.405408 -2.351788 -2.399343 -1.771626 -1.311589\n",
       "3    -0.449467        0.709464  0.799005  0.329874  0.361663  0.526306\n",
       "4    -0.449467        0.152028  0.964836  0.857110  0.938228  1.169570"
      ]
     },
     "execution_count": 10,
     "metadata": {},
     "output_type": "execute_result"
    }
   ],
   "source": [
    "my_data = (my_data - my_data.mean())/my_data.std()\n",
    "my_data.head()"
   ]
  },
  {
   "cell_type": "markdown",
   "metadata": {},
   "source": [
    "Import necessary packages"
   ]
  },
  {
   "cell_type": "code",
   "execution_count": 37,
   "metadata": {
    "collapsed": true
   },
   "outputs": [],
   "source": [
    "from sklearn.linear_model import LinearRegression\n",
    "from sklearn.metrics import mean_squared_error"
   ]
  },
  {
   "cell_type": "code",
   "execution_count": 12,
   "metadata": {
    "collapsed": true
   },
   "outputs": [],
   "source": [
    "feature_cols=['Team Rating','Ronaldo_rating','Matches','Shots','Ontarget']"
   ]
  },
  {
   "cell_type": "code",
   "execution_count": 13,
   "metadata": {
    "collapsed": true
   },
   "outputs": [],
   "source": [
    "A=my_data[feature_cols]\n",
    "B=my_data['Goals']"
   ]
  },
  {
   "cell_type": "code",
   "execution_count": 14,
   "metadata": {},
   "outputs": [
    {
     "data": {
      "text/plain": [
       "LinearRegression(copy_X=True, fit_intercept=True, n_jobs=1, normalize=False)"
      ]
     },
     "execution_count": 14,
     "metadata": {},
     "output_type": "execute_result"
    }
   ],
   "source": [
    "from sklearn.linear_model import LinearRegression\n",
    "linearreg=LinearRegression()\n",
    "linearreg.fit(A,B)"
   ]
  },
  {
   "cell_type": "markdown",
   "metadata": {},
   "source": [
    "Linear regression -- Intercepts and coefficients for 5 variables"
   ]
  },
  {
   "cell_type": "code",
   "execution_count": 15,
   "metadata": {},
   "outputs": [
    {
     "name": "stdout",
     "output_type": "stream",
     "text": [
      "9.52840363032892e-16 [-0.27710277  0.33459962  0.37025606 -0.7169555   1.21798311]\n"
     ]
    }
   ],
   "source": [
    "print(linearreg.intercept_,linearreg.coef_)"
   ]
  },
  {
   "cell_type": "code",
   "execution_count": 16,
   "metadata": {
    "collapsed": true
   },
   "outputs": [],
   "source": [
    "B_pred=linearreg.predict(A)"
   ]
  },
  {
   "cell_type": "markdown",
   "metadata": {},
   "source": [
    "Calculate the RMSE"
   ]
  },
  {
   "cell_type": "code",
   "execution_count": 59,
   "metadata": {},
   "outputs": [
    {
     "name": "stdout",
     "output_type": "stream",
     "text": [
      "0.24712668088245276\n"
     ]
    }
   ],
   "source": [
    "from sklearn import metrics\n",
    "rmse_sk=np.sqrt(metrics.mean_squared_error(B,B_pred))\n",
    "print(np.sqrt(metrics.mean_squared_error(B,B_pred)))"
   ]
  },
  {
   "cell_type": "markdown",
   "metadata": {},
   "source": [
    "Calculate R squred"
   ]
  },
  {
   "cell_type": "code",
   "execution_count": 29,
   "metadata": {},
   "outputs": [
    {
     "name": "stdout",
     "output_type": "stream",
     "text": [
      "0.9328212439556246\n"
     ]
    }
   ],
   "source": [
    "r2 = linearreg.score(A, B)\n",
    "print(r2)"
   ]
  },
  {
   "cell_type": "markdown",
   "metadata": {},
   "source": [
    "# Mathematical implementation of Linear Regression"
   ]
  },
  {
   "cell_type": "markdown",
   "metadata": {},
   "source": [
    "# Creating the Feature Matrix and the Dependent Variable Matrix"
   ]
  },
  {
   "cell_type": "code",
   "execution_count": null,
   "metadata": {
    "collapsed": true
   },
   "outputs": [],
   "source": [
    "X is the feature vector with has all the independedt variabls. Y is the dependent vector"
   ]
  },
  {
   "cell_type": "code",
   "execution_count": 77,
   "metadata": {},
   "outputs": [],
   "source": [
    "\n",
    "\n",
    "# The first 5 columns are features\n",
    "X = my_data.iloc[:,0:5]\n",
    "# Create a vector with 1's/ y= θ0x0 + θ1x1 + θ2x2\n",
    "#x0 is considered as 1 and thats filled with a '1' vector matrix\n",
    "ones = np.ones([X.shape[0],1])\n",
    "#Merge the X0 with other features\n",
    "X = np.concatenate((ones,X),axis=1)\n",
    "\n",
    "\n",
    "#The last column is Y which is dependent variable\n",
    "y = my_data.iloc[:,5:6].values #.values converts it from pandas.core.frame.DataFrame to numpy.ndarray\n",
    "theta = np.zeros([1,6])\n",
    "\n",
    "#Learning rate is alpha which will determine the hop during gradient descent. Too low learning rate will take a long time to reach \n",
    "#global optima and too high alpha might lead us missing out on global optima\n",
    "alpha = 0.01\n",
    "iters = 1000"
   ]
  },
  {
   "cell_type": "markdown",
   "metadata": {},
   "source": [
    "# USING ALGEBRA"
   ]
  },
  {
   "cell_type": "markdown",
   "metadata": {},
   "source": [
    "The logic has been taken from https://datascienceplus.com/"
   ]
  },
  {
   "cell_type": "markdown",
   "metadata": {},
   "source": [
    "Import inverse function"
   ]
  },
  {
   "cell_type": "code",
   "execution_count": 18,
   "metadata": {
    "collapsed": true
   },
   "outputs": [],
   "source": [
    "from numpy.linalg import inv"
   ]
  },
  {
   "cell_type": "code",
   "execution_count": 21,
   "metadata": {
    "collapsed": true
   },
   "outputs": [],
   "source": [
    "# calculate coefficients using closed-form solution - Normal equation\n",
    "#Theta =(XTX)−1XTy - coefficients = ( Xtranspose X ) inverse * X *Y\n",
    "coeffs = inv(X.transpose().dot(X)).dot(X.transpose()).dot(y)"
   ]
  },
  {
   "cell_type": "code",
   "execution_count": 22,
   "metadata": {},
   "outputs": [
    {
     "data": {
      "text/plain": [
       "array([[ 9.80118764e-16],\n",
       "       [-2.77102773e-01],\n",
       "       [ 3.34599625e-01],\n",
       "       [ 3.70256064e-01],\n",
       "       [-7.16955500e-01],\n",
       "       [ 1.21798311e+00]])"
      ]
     },
     "execution_count": 22,
     "metadata": {},
     "output_type": "execute_result"
    }
   ],
   "source": [
    "coeffs"
   ]
  },
  {
   "cell_type": "markdown",
   "metadata": {},
   "source": [
    "# USING OLS"
   ]
  },
  {
   "cell_type": "code",
   "execution_count": 23,
   "metadata": {
    "collapsed": true
   },
   "outputs": [],
   "source": [
    "from statsmodels.regression.linear_model import OLS"
   ]
  },
  {
   "cell_type": "code",
   "execution_count": 24,
   "metadata": {
    "collapsed": true
   },
   "outputs": [],
   "source": [
    "coeffs_lm = OLS(y, X).fit().params"
   ]
  },
  {
   "cell_type": "code",
   "execution_count": 25,
   "metadata": {},
   "outputs": [
    {
     "name": "stdout",
     "output_type": "stream",
     "text": [
      "[-8.67361738e-18 -2.77102773e-01  3.34599625e-01  3.70256064e-01\n",
      " -7.16955500e-01  1.21798311e+00]\n"
     ]
    }
   ],
   "source": [
    "print(coeffs_lm)"
   ]
  },
  {
   "cell_type": "markdown",
   "metadata": {},
   "source": [
    "# CALCULATING THE COST FUNCTION"
   ]
  },
  {
   "cell_type": "code",
   "execution_count": 30,
   "metadata": {
    "collapsed": true
   },
   "outputs": [],
   "source": [
    "#computecost. It calculates the cost based on X, Y and theta\n",
    "\n",
    "#Cost function in general = 1/2m ( Hyp - Y)^2\n",
    "\n",
    "def computeCost(X,y,theta):\n",
    "    tobesummed = np.power(((X @ theta.T)-y),2)\n",
    "    return np.sum(tobesummed)/(2 * len(X))"
   ]
  },
  {
   "cell_type": "markdown",
   "metadata": {},
   "source": [
    "Gradient descent is used to minimize the cost function\n",
    "The logic is taken from https://medium.com/we-are-orb/multivariate-linear-regression-in-python\n",
    "The cost function and gradient descent are almost same.\n",
    "The gradient descent is a matrix operatio. It will run as long as the number of columns in Theta and the feature vector are same.\n",
    "\n",
    "The gradient descent is done for 1000 iterations to minimize the cost.\n",
    "The cost function should decrease after each iteration.\n"
   ]
  },
  {
   "cell_type": "code",
   "execution_count": 78,
   "metadata": {},
   "outputs": [
    {
     "name": "stdout",
     "output_type": "stream",
     "text": [
      "Gradient Descent [[ 5.25047177e-16 -3.89732564e-01  2.26853333e-01  2.19772654e-01\n",
      "  -8.26781497e-02  7.55526018e-01]]\n",
      "FinalCost 0.04662692735104188\n"
     ]
    }
   ],
   "source": [
    "#gradient descent\n",
    "def gradientDescent(X,y,theta,iters,alpha):\n",
    "    cost = np.zeros(iters)\n",
    "    for i in range(iters):\n",
    "        theta = theta - (alpha/len(X)) * np.sum(X * (X @ theta.T - y), axis=0)\n",
    "        cost[i] = computeCost(X, y, theta)\n",
    "    \n",
    "    return theta,cost\n",
    "\n",
    "#running the gd and cost function\n",
    "g,cost = gradientDescent(X,y,theta,iters,alpha)\n",
    "print(\"Gradient Descent\",g)\n",
    "\n",
    "finalCost = computeCost(X,y,g)\n",
    "print(\"FinalCost\",finalCost)"
   ]
  },
  {
   "cell_type": "code",
   "execution_count": 79,
   "metadata": {},
   "outputs": [
    {
     "data": {
      "image/png": "[encoded data removed]",
      "text/plain": [
       "<matplotlib.figure.Figure at 0x935c0bbcc0>"
      ]
     },
     "metadata": {},
     "output_type": "display_data"
    }
   ],
   "source": [
    "fig, ax = plt.subplots()  \n",
    "ax.plot(np.arange(iters), cost, 'r')  \n",
    "ax.set_xlabel('Iterations')  \n",
    "ax.set_ylabel('Cost')  \n",
    "ax.set_title('Error vs. Training Epoch')\n",
    "plt.show()"
   ]
  },
  {
   "cell_type": "markdown",
   "metadata": {},
   "source": [
    "# OUTPUTS"
   ]
  },
  {
   "cell_type": "code",
   "execution_count": 38,
   "metadata": {},
   "outputs": [
    {
     "name": "stdout",
     "output_type": "stream",
     "text": [
      "SCIKIT LEARN [-0.27710277  0.33459962  0.37025606 -0.7169555   1.21798311]\n"
     ]
    }
   ],
   "source": [
    "print(\"SCIKIT LEARN\",linearreg.coef_)"
   ]
  },
  {
   "cell_type": "code",
   "execution_count": 47,
   "metadata": {},
   "outputs": [],
   "source": [
    "algeb=coeffs.T"
   ]
  },
  {
   "cell_type": "code",
   "execution_count": 50,
   "metadata": {},
   "outputs": [
    {
     "name": "stdout",
     "output_type": "stream",
     "text": [
      "Matrix Algebra [[-0.27710277  0.33459962  0.37025606 -0.7169555   1.21798311]]\n"
     ]
    }
   ],
   "source": [
    "print(\"Matrix Algebra\", algeb[:,1:])"
   ]
  },
  {
   "cell_type": "code",
   "execution_count": 44,
   "metadata": {},
   "outputs": [
    {
     "name": "stdout",
     "output_type": "stream",
     "text": [
      "Using OLS [-0.27710277  0.33459962  0.37025606 -0.7169555   1.21798311]\n"
     ]
    }
   ],
   "source": [
    "print(\"Using OLS\",coeffs_lm[1:6])"
   ]
  },
  {
   "cell_type": "code",
   "execution_count": 55,
   "metadata": {},
   "outputs": [
    {
     "name": "stdout",
     "output_type": "stream",
     "text": [
      "Gradient Descent [[-0.38973256  0.22685333  0.21977265 -0.08267815  0.75552602]]\n"
     ]
    }
   ],
   "source": [
    "print(\"Gradient Descent\",g[:,1:])"
   ]
  },
  {
   "cell_type": "code",
   "execution_count": 60,
   "metadata": {},
   "outputs": [
    {
     "name": "stdout",
     "output_type": "stream",
     "text": [
      "RMSE using SKLEARN 0.24712668088245276\n"
     ]
    }
   ],
   "source": [
    "print(\"RMSE using SKLEARN\",rmse_sk)"
   ]
  },
  {
   "cell_type": "code",
   "execution_count": 58,
   "metadata": {},
   "outputs": [
    {
     "name": "stdout",
     "output_type": "stream",
     "text": [
      "Final cost function after gradient descent 0.04662692735104188\n"
     ]
    }
   ],
   "source": [
    "print(\"Final cost function after gradient descent\",finalCost)"
   ]
  }
 ],
 "metadata": {
  "kernelspec": {
   "display_name": "Python 3",
   "language": "python",
   "name": "python3"
  },
  "language_info": {
   "codemirror_mode": {
    "name": "ipython",
    "version": 3
   },
   "file_extension": ".py",
   "mimetype": "text/x-python",
   "name": "python",
   "nbconvert_exporter": "python",
   "pygments_lexer": "ipython3",
   "version": "3.6.3"
  }
 },
 "nbformat": 4,
 "nbformat_minor": 2
}
